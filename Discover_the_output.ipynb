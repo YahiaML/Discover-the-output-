{
  "nbformat": 4,
  "nbformat_minor": 0,
  "metadata": {
    "colab": {
      "name": "Discover_the_output",
      "provenance": [],
      "collapsed_sections": [],
      "authorship_tag": "ABX9TyNR/wd3+wp9F3QZcXHeT1kG",
      "include_colab_link": true
    },
    "kernelspec": {
      "name": "python3",
      "display_name": "Python 3"
    }
  },
  "cells": [
    {
      "cell_type": "markdown",
      "metadata": {
        "id": "view-in-github",
        "colab_type": "text"
      },
      "source": [
        "<a href=\"https://colab.research.google.com/github/YahiaML/Discover-the-output-/blob/main/Discover_the_output.ipynb\" target=\"_parent\"><img src=\"https://colab.research.google.com/assets/colab-badge.svg\" alt=\"Open In Colab\"/></a>"
      ]
    },
    {
      "cell_type": "code",
      "metadata": {
        "id": "X9uIpOS2zx7k"
      },
      "source": [
        "import tensorflow as tf\n",
        "import numpy as np\n",
        "from tensorflow import keras"
      ],
      "execution_count": null,
      "outputs": []
    },
    {
      "cell_type": "code",
      "metadata": {
        "id": "4rH6X3gjdNj3"
      },
      "source": [
        "model = tf.keras.Sequential([keras.layers.Dense(1, input_shape=[1])])\n",
        "\n",
        "# the following method does the same job :\n",
        "# model = tf.keras.Sequential([keras.layers.Dense(units =1, input_shape=[1])])\n",
        "# units = the required num. of nurons\n",
        "# input_shape = the num. of values the nurons are fedeed by (which in our case is the X value)\n"
      ],
      "execution_count": null,
      "outputs": []
    },
    {
      "cell_type": "code",
      "metadata": {
        "id": "m8YQN1H41L-Y"
      },
      "source": [
        "model.compile(optimizer='sgd', loss='mean_squared_error')\n",
        "\n",
        "# the following method is less accurate :\n",
        "#model.compile(optimizer='rmsprop', loss='mean_squared_error')\n",
        "\n",
        "# model.compile()"
      ],
      "execution_count": null,
      "outputs": []
    },
    {
      "cell_type": "code",
      "metadata": {
        "id": "VhJ4kG1disct"
      },
      "source": [
        "xs = np.array([-1.0, 0.0, 1.0, 2.0, 3.0, 4.0], dtype=float)  # the input\n",
        "ys = np.array([-3.0, -1.0, 1.0, 3.0, 5.0, 7.0], dtype=float) # the output"
      ],
      "execution_count": null,
      "outputs": []
    },
    {
      "cell_type": "code",
      "metadata": {
        "id": "lpRrl7WK10Pq"
      },
      "source": [
        "model.fit(xs, ys, epochs=500)"
      ],
      "execution_count": null,
      "outputs": []
    },
    {
      "cell_type": "code",
      "metadata": {
        "colab": {
          "base_uri": "https://localhost:8080/"
        },
        "id": "3svkHSg-i186",
        "outputId": "f90e2bb3-209e-4a9c-e01a-c1d918084f0a"
      },
      "source": [
        "print(model.predict([10.0]))\n",
        "# formula: Y = (X*2)-1"
      ],
      "execution_count": null,
      "outputs": [
        {
          "output_type": "stream",
          "name": "stdout",
          "text": [
            "[[18.991634]]\n"
          ]
        }
      ]
    }
  ]
}